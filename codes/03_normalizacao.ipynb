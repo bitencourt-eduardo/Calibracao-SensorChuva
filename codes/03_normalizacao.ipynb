{
 "cells": [
  {
   "attachments": {},
   "cell_type": "markdown",
   "metadata": {},
   "source": [
    "## Etapa: 03. Normalização\n",
    "\n",
    "#### Código criado por: Eduardo Arthur Bitencourt  | Data: 31/07/2023\n",
    "##### Github: https://github.com/bitencourt-eduardo  | Linkedin: https://www.linkedin.com/in/bitencourt-eduardo/"
   ]
  },
  {
   "cell_type": "code",
   "execution_count": 2,
   "metadata": {},
   "outputs": [],
   "source": [
    "#!pip install matplotlib\n",
    "#!pip install imbalanced-learn"
   ]
  },
  {
   "cell_type": "code",
   "execution_count": 3,
   "metadata": {},
   "outputs": [],
   "source": [
    "#Importar Bibliotecas\n",
    "\n",
    "import pandas as pd\n",
    "\n",
    "from sklearn.preprocessing import MinMaxScaler\n",
    "from sklearn.preprocessing import StandardScaler\n",
    "from imblearn.over_sampling import RandomOverSampler"
   ]
  },
  {
   "attachments": {},
   "cell_type": "markdown",
   "metadata": {},
   "source": [
    "#### Carregando arquivos FieldPRO\n",
    "\n",
    "Sensor_FieldPRO, dados transmitidos pelo sensor"
   ]
  },
  {
   "cell_type": "code",
   "execution_count": 4,
   "metadata": {},
   "outputs": [
    {
     "data": {
      "text/html": [
       "<div>\n",
       "<style scoped>\n",
       "    .dataframe tbody tr th:only-of-type {\n",
       "        vertical-align: middle;\n",
       "    }\n",
       "\n",
       "    .dataframe tbody tr th {\n",
       "        vertical-align: top;\n",
       "    }\n",
       "\n",
       "    .dataframe thead th {\n",
       "        text-align: right;\n",
       "    }\n",
       "</style>\n",
       "<table border=\"1\" class=\"dataframe\">\n",
       "  <thead>\n",
       "    <tr style=\"text-align: right;\">\n",
       "      <th></th>\n",
       "      <th>air_humidity_100</th>\n",
       "      <th>atm_pressure_main</th>\n",
       "      <th>num_of_resets</th>\n",
       "      <th>piezo_charge</th>\n",
       "      <th>piezo_temperature</th>\n",
       "      <th>chuva</th>\n",
       "    </tr>\n",
       "  </thead>\n",
       "  <tbody>\n",
       "    <tr>\n",
       "      <th>0</th>\n",
       "      <td>38.0</td>\n",
       "      <td>9412</td>\n",
       "      <td>0</td>\n",
       "      <td>45123</td>\n",
       "      <td>30</td>\n",
       "      <td>0.0</td>\n",
       "    </tr>\n",
       "    <tr>\n",
       "      <th>1</th>\n",
       "      <td>39.0</td>\n",
       "      <td>9419</td>\n",
       "      <td>0</td>\n",
       "      <td>44923</td>\n",
       "      <td>31</td>\n",
       "      <td>0.0</td>\n",
       "    </tr>\n",
       "    <tr>\n",
       "      <th>2</th>\n",
       "      <td>39.0</td>\n",
       "      <td>9419</td>\n",
       "      <td>0</td>\n",
       "      <td>44825</td>\n",
       "      <td>31</td>\n",
       "      <td>0.0</td>\n",
       "    </tr>\n",
       "    <tr>\n",
       "      <th>3</th>\n",
       "      <td>38.0</td>\n",
       "      <td>9416</td>\n",
       "      <td>0</td>\n",
       "      <td>44728</td>\n",
       "      <td>31</td>\n",
       "      <td>0.0</td>\n",
       "    </tr>\n",
       "    <tr>\n",
       "      <th>4</th>\n",
       "      <td>39.0</td>\n",
       "      <td>9411</td>\n",
       "      <td>0</td>\n",
       "      <td>44632</td>\n",
       "      <td>30</td>\n",
       "      <td>0.0</td>\n",
       "    </tr>\n",
       "  </tbody>\n",
       "</table>\n",
       "</div>"
      ],
      "text/plain": [
       "   air_humidity_100  atm_pressure_main  num_of_resets  piezo_charge  \\\n",
       "0              38.0               9412              0         45123   \n",
       "1              39.0               9419              0         44923   \n",
       "2              39.0               9419              0         44825   \n",
       "3              38.0               9416              0         44728   \n",
       "4              39.0               9411              0         44632   \n",
       "\n",
       "   piezo_temperature  chuva  \n",
       "0                 30    0.0  \n",
       "1                 31    0.0  \n",
       "2                 31    0.0  \n",
       "3                 31    0.0  \n",
       "4                 30    0.0  "
      ]
     },
     "execution_count": 4,
     "metadata": {},
     "output_type": "execute_result"
    }
   ],
   "source": [
    "# Carregar arquivo de dados transmitidos pelo sensor\n",
    "name_file = 'df_cleaned_merged.csv'\n",
    "diretorio = '../datasets/{name_file}'\n",
    "\n",
    "df = pd.read_csv(diretorio.format(name_file=name_file), sep=';', decimal='.')\n",
    "df.head()"
   ]
  },
  {
   "cell_type": "code",
   "execution_count": 5,
   "metadata": {},
   "outputs": [
    {
     "name": "stdout",
     "output_type": "stream",
     "text": [
      "<class 'pandas.core.frame.DataFrame'>\n",
      "RangeIndex: 1525 entries, 0 to 1524\n",
      "Data columns (total 6 columns):\n",
      " #   Column             Non-Null Count  Dtype  \n",
      "---  ------             --------------  -----  \n",
      " 0   air_humidity_100   1525 non-null   float64\n",
      " 1   atm_pressure_main  1525 non-null   int64  \n",
      " 2   num_of_resets      1525 non-null   int64  \n",
      " 3   piezo_charge       1525 non-null   int64  \n",
      " 4   piezo_temperature  1525 non-null   int64  \n",
      " 5   chuva              1525 non-null   float64\n",
      "dtypes: float64(2), int64(4)\n",
      "memory usage: 71.6 KB\n"
     ]
    }
   ],
   "source": [
    "df.info()"
   ]
  },
  {
   "attachments": {},
   "cell_type": "markdown",
   "metadata": {},
   "source": [
    "___________________________________________________\n",
    "Corrigindo formato time-stamp do campo data"
   ]
  },
  {
   "cell_type": "code",
   "execution_count": 6,
   "metadata": {},
   "outputs": [
    {
     "data": {
      "text/html": [
       "<div>\n",
       "<style scoped>\n",
       "    .dataframe tbody tr th:only-of-type {\n",
       "        vertical-align: middle;\n",
       "    }\n",
       "\n",
       "    .dataframe tbody tr th {\n",
       "        vertical-align: top;\n",
       "    }\n",
       "\n",
       "    .dataframe thead th {\n",
       "        text-align: right;\n",
       "    }\n",
       "</style>\n",
       "<table border=\"1\" class=\"dataframe\">\n",
       "  <thead>\n",
       "    <tr style=\"text-align: right;\">\n",
       "      <th></th>\n",
       "      <th>air_humidity_100</th>\n",
       "      <th>atm_pressure_main</th>\n",
       "      <th>num_of_resets</th>\n",
       "      <th>piezo_charge</th>\n",
       "      <th>piezo_temperature</th>\n",
       "      <th>chuva</th>\n",
       "    </tr>\n",
       "  </thead>\n",
       "  <tbody>\n",
       "    <tr>\n",
       "      <th>count</th>\n",
       "      <td>1525.000000</td>\n",
       "      <td>1525.000000</td>\n",
       "      <td>1525.000000</td>\n",
       "      <td>1525.000000</td>\n",
       "      <td>1525.000000</td>\n",
       "      <td>1525.000000</td>\n",
       "    </tr>\n",
       "    <tr>\n",
       "      <th>mean</th>\n",
       "      <td>58.704262</td>\n",
       "      <td>9432.478689</td>\n",
       "      <td>1.495082</td>\n",
       "      <td>44192.804590</td>\n",
       "      <td>25.028197</td>\n",
       "      <td>0.093377</td>\n",
       "    </tr>\n",
       "    <tr>\n",
       "      <th>std</th>\n",
       "      <td>21.933831</td>\n",
       "      <td>27.272016</td>\n",
       "      <td>1.040900</td>\n",
       "      <td>12650.914075</td>\n",
       "      <td>8.522773</td>\n",
       "      <td>0.829280</td>\n",
       "    </tr>\n",
       "    <tr>\n",
       "      <th>min</th>\n",
       "      <td>13.000000</td>\n",
       "      <td>9350.000000</td>\n",
       "      <td>0.000000</td>\n",
       "      <td>16950.000000</td>\n",
       "      <td>11.000000</td>\n",
       "      <td>0.000000</td>\n",
       "    </tr>\n",
       "    <tr>\n",
       "      <th>25%</th>\n",
       "      <td>40.000000</td>\n",
       "      <td>9415.000000</td>\n",
       "      <td>1.000000</td>\n",
       "      <td>34701.000000</td>\n",
       "      <td>18.000000</td>\n",
       "      <td>0.000000</td>\n",
       "    </tr>\n",
       "    <tr>\n",
       "      <th>50%</th>\n",
       "      <td>59.000000</td>\n",
       "      <td>9433.000000</td>\n",
       "      <td>1.000000</td>\n",
       "      <td>43968.000000</td>\n",
       "      <td>22.000000</td>\n",
       "      <td>0.000000</td>\n",
       "    </tr>\n",
       "    <tr>\n",
       "      <th>75%</th>\n",
       "      <td>78.000000</td>\n",
       "      <td>9451.000000</td>\n",
       "      <td>2.000000</td>\n",
       "      <td>54999.000000</td>\n",
       "      <td>32.000000</td>\n",
       "      <td>0.000000</td>\n",
       "    </tr>\n",
       "    <tr>\n",
       "      <th>max</th>\n",
       "      <td>99.000000</td>\n",
       "      <td>9507.000000</td>\n",
       "      <td>3.000000</td>\n",
       "      <td>65533.000000</td>\n",
       "      <td>47.000000</td>\n",
       "      <td>16.800000</td>\n",
       "    </tr>\n",
       "  </tbody>\n",
       "</table>\n",
       "</div>"
      ],
      "text/plain": [
       "       air_humidity_100  atm_pressure_main  num_of_resets  piezo_charge  \\\n",
       "count       1525.000000        1525.000000    1525.000000   1525.000000   \n",
       "mean          58.704262        9432.478689       1.495082  44192.804590   \n",
       "std           21.933831          27.272016       1.040900  12650.914075   \n",
       "min           13.000000        9350.000000       0.000000  16950.000000   \n",
       "25%           40.000000        9415.000000       1.000000  34701.000000   \n",
       "50%           59.000000        9433.000000       1.000000  43968.000000   \n",
       "75%           78.000000        9451.000000       2.000000  54999.000000   \n",
       "max           99.000000        9507.000000       3.000000  65533.000000   \n",
       "\n",
       "       piezo_temperature        chuva  \n",
       "count        1525.000000  1525.000000  \n",
       "mean           25.028197     0.093377  \n",
       "std             8.522773     0.829280  \n",
       "min            11.000000     0.000000  \n",
       "25%            18.000000     0.000000  \n",
       "50%            22.000000     0.000000  \n",
       "75%            32.000000     0.000000  \n",
       "max            47.000000    16.800000  "
      ]
     },
     "execution_count": 6,
     "metadata": {},
     "output_type": "execute_result"
    }
   ],
   "source": [
    "df.describe()"
   ]
  },
  {
   "attachments": {},
   "cell_type": "markdown",
   "metadata": {},
   "source": [
    "_____________________________________________________________________________________________________________________________"
   ]
  },
  {
   "cell_type": "markdown",
   "metadata": {},
   "source": [
    "# Realizando Normalização dos Dados"
   ]
  },
  {
   "cell_type": "code",
   "execution_count": 7,
   "metadata": {},
   "outputs": [],
   "source": [
    "#df.reset_index(drop=True, inplace=True)"
   ]
  },
  {
   "cell_type": "code",
   "execution_count": 8,
   "metadata": {},
   "outputs": [
    {
     "data": {
      "text/html": [
       "<div>\n",
       "<style scoped>\n",
       "    .dataframe tbody tr th:only-of-type {\n",
       "        vertical-align: middle;\n",
       "    }\n",
       "\n",
       "    .dataframe tbody tr th {\n",
       "        vertical-align: top;\n",
       "    }\n",
       "\n",
       "    .dataframe thead th {\n",
       "        text-align: right;\n",
       "    }\n",
       "</style>\n",
       "<table border=\"1\" class=\"dataframe\">\n",
       "  <thead>\n",
       "    <tr style=\"text-align: right;\">\n",
       "      <th></th>\n",
       "      <th>air_humidity_100</th>\n",
       "      <th>atm_pressure_main</th>\n",
       "      <th>num_of_resets</th>\n",
       "      <th>piezo_charge</th>\n",
       "      <th>piezo_temperature</th>\n",
       "      <th>chuva</th>\n",
       "    </tr>\n",
       "  </thead>\n",
       "  <tbody>\n",
       "    <tr>\n",
       "      <th>0</th>\n",
       "      <td>0.290698</td>\n",
       "      <td>0.394904</td>\n",
       "      <td>0.0</td>\n",
       "      <td>0.579894</td>\n",
       "      <td>0.527778</td>\n",
       "      <td>0.0</td>\n",
       "    </tr>\n",
       "    <tr>\n",
       "      <th>1</th>\n",
       "      <td>0.302326</td>\n",
       "      <td>0.439490</td>\n",
       "      <td>0.0</td>\n",
       "      <td>0.575778</td>\n",
       "      <td>0.555556</td>\n",
       "      <td>0.0</td>\n",
       "    </tr>\n",
       "    <tr>\n",
       "      <th>2</th>\n",
       "      <td>0.302326</td>\n",
       "      <td>0.439490</td>\n",
       "      <td>0.0</td>\n",
       "      <td>0.573760</td>\n",
       "      <td>0.555556</td>\n",
       "      <td>0.0</td>\n",
       "    </tr>\n",
       "    <tr>\n",
       "      <th>3</th>\n",
       "      <td>0.290698</td>\n",
       "      <td>0.420382</td>\n",
       "      <td>0.0</td>\n",
       "      <td>0.571764</td>\n",
       "      <td>0.555556</td>\n",
       "      <td>0.0</td>\n",
       "    </tr>\n",
       "    <tr>\n",
       "      <th>4</th>\n",
       "      <td>0.302326</td>\n",
       "      <td>0.388535</td>\n",
       "      <td>0.0</td>\n",
       "      <td>0.569788</td>\n",
       "      <td>0.527778</td>\n",
       "      <td>0.0</td>\n",
       "    </tr>\n",
       "  </tbody>\n",
       "</table>\n",
       "</div>"
      ],
      "text/plain": [
       "   air_humidity_100  atm_pressure_main  num_of_resets  piezo_charge  \\\n",
       "0          0.290698           0.394904            0.0      0.579894   \n",
       "1          0.302326           0.439490            0.0      0.575778   \n",
       "2          0.302326           0.439490            0.0      0.573760   \n",
       "3          0.290698           0.420382            0.0      0.571764   \n",
       "4          0.302326           0.388535            0.0      0.569788   \n",
       "\n",
       "   piezo_temperature  chuva  \n",
       "0           0.527778    0.0  \n",
       "1           0.555556    0.0  \n",
       "2           0.555556    0.0  \n",
       "3           0.555556    0.0  \n",
       "4           0.527778    0.0  "
      ]
     },
     "execution_count": 8,
     "metadata": {},
     "output_type": "execute_result"
    }
   ],
   "source": [
    "# Selecionando apenas as colunas numéricas para a normalização\n",
    "columns_to_normalize = ['air_humidity_100', 'atm_pressure_main',\n",
    "                        'num_of_resets', 'piezo_charge', 'piezo_temperature', 'chuva']\n",
    "\n",
    "# Criando o objeto MinMaxScaler\n",
    "scaler = MinMaxScaler()\n",
    "\n",
    "# Realizando a normalização das colunas selecionadas\n",
    "df[columns_to_normalize] = scaler.fit_transform(df[columns_to_normalize])\n",
    "df.head()"
   ]
  },
  {
   "cell_type": "code",
   "execution_count": 9,
   "metadata": {},
   "outputs": [
    {
     "name": "stdout",
     "output_type": "stream",
     "text": [
      "<class 'pandas.core.frame.DataFrame'>\n",
      "RangeIndex: 1525 entries, 0 to 1524\n",
      "Data columns (total 6 columns):\n",
      " #   Column             Non-Null Count  Dtype  \n",
      "---  ------             --------------  -----  \n",
      " 0   air_humidity_100   1525 non-null   float64\n",
      " 1   atm_pressure_main  1525 non-null   float64\n",
      " 2   num_of_resets      1525 non-null   float64\n",
      " 3   piezo_charge       1525 non-null   float64\n",
      " 4   piezo_temperature  1525 non-null   float64\n",
      " 5   chuva              1525 non-null   float64\n",
      "dtypes: float64(6)\n",
      "memory usage: 71.6 KB\n"
     ]
    }
   ],
   "source": [
    "df.info()"
   ]
  },
  {
   "cell_type": "code",
   "execution_count": 10,
   "metadata": {},
   "outputs": [],
   "source": [
    "df.to_csv('../datasets/df_normalized.csv', sep = ';', index=False)"
   ]
  }
 ],
 "metadata": {
  "kernelspec": {
   "display_name": ".venv",
   "language": "python",
   "name": "python3"
  },
  "language_info": {
   "codemirror_mode": {
    "name": "ipython",
    "version": 3
   },
   "file_extension": ".py",
   "mimetype": "text/x-python",
   "name": "python",
   "nbconvert_exporter": "python",
   "pygments_lexer": "ipython3",
   "version": "3.11.4"
  },
  "orig_nbformat": 4
 },
 "nbformat": 4,
 "nbformat_minor": 2
}
