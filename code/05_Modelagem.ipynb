{
 "cells": [
  {
   "attachments": {},
   "cell_type": "markdown",
   "metadata": {},
   "source": [
    "## Etapa: 05. Modelagem\n",
    "\n",
    "#### Código criado por: Eduardo Arthur Bitencourt  | Data: 02/08/2023\n",
    "##### Github: https://github.com/bitencourt-eduardo  | Linkedin: https://www.linkedin.com/in/bitencourt-eduardo/"
   ]
  },
  {
   "cell_type": "code",
   "execution_count": 39,
   "metadata": {},
   "outputs": [],
   "source": [
    "#!pip install matplotlib\n",
    "#!pip install imbalanced-learn\n",
    "#!pip install xgboost"
   ]
  },
  {
   "cell_type": "code",
   "execution_count": 40,
   "metadata": {},
   "outputs": [],
   "source": [
    "#Importar Bibliotecas\n",
    "\n",
    "import pandas as pd\n",
    "import numpy as np\n",
    "import matplotlib.pyplot as plt\n",
    "\n",
    "from sklearn.linear_model import LinearRegression\n",
    "from sklearn.ensemble import RandomForestRegressor\n",
    "\n",
    "from sklearn.model_selection import train_test_split\n",
    "from sklearn.metrics import mean_squared_error, r2_score\n",
    "\n",
    "\n"
   ]
  },
  {
   "attachments": {},
   "cell_type": "markdown",
   "metadata": {},
   "source": [
    "#### Carregando arquivos FieldPRO\n",
    "\n",
    "Sensor_FieldPRO, dados transmitidos pelo sensor"
   ]
  },
  {
   "cell_type": "code",
   "execution_count": 41,
   "metadata": {},
   "outputs": [
    {
     "name": "stdout",
     "output_type": "stream",
     "text": [
      "<class 'pandas.core.frame.DataFrame'>\n",
      "RangeIndex: 39690 entries, 0 to 39689\n",
      "Data columns (total 6 columns):\n",
      " #   Column             Non-Null Count  Dtype  \n",
      "---  ------             --------------  -----  \n",
      " 0   air_humidity_100   39690 non-null  float64\n",
      " 1   atm_pressure_main  39690 non-null  float64\n",
      " 2   num_of_resets      39690 non-null  float64\n",
      " 3   piezo_charge       39690 non-null  float64\n",
      " 4   piezo_temperature  39690 non-null  float64\n",
      " 5   chuva              39690 non-null  int64  \n",
      "dtypes: float64(5), int64(1)\n",
      "memory usage: 1.8 MB\n"
     ]
    }
   ],
   "source": [
    "# Carregar arquivo de dados transmitidos pelo sensor\n",
    "diretorio = '../datasets/{name_file}'\n",
    "\n",
    "df_oversampling = pd.read_csv(diretorio.format(name_file='df_oversampling.csv'), sep=';', decimal='.')\n",
    "df_undersampling = pd.read_csv(diretorio.format(name_file='df_undersampling.csv'), sep=';', decimal='.')\n",
    "df_bsmote = pd.read_csv(diretorio.format(name_file='df_bsmote.csv'), sep=';', decimal='.')\n",
    "\n",
    "df_normalized = pd.read_csv(diretorio.format(name_file='df_normalized.csv'), sep=';', decimal='.')\n",
    "\n",
    "df_oversampling.info()\n"
   ]
  },
  {
   "cell_type": "code",
   "execution_count": 42,
   "metadata": {},
   "outputs": [
    {
     "name": "stdout",
     "output_type": "stream",
     "text": [
      "<class 'pandas.core.frame.DataFrame'>\n",
      "RangeIndex: 27 entries, 0 to 26\n",
      "Data columns (total 6 columns):\n",
      " #   Column             Non-Null Count  Dtype  \n",
      "---  ------             --------------  -----  \n",
      " 0   air_humidity_100   27 non-null     float64\n",
      " 1   atm_pressure_main  27 non-null     float64\n",
      " 2   num_of_resets      27 non-null     float64\n",
      " 3   piezo_charge       27 non-null     float64\n",
      " 4   piezo_temperature  27 non-null     float64\n",
      " 5   chuva              27 non-null     int64  \n",
      "dtypes: float64(5), int64(1)\n",
      "memory usage: 1.4 KB\n"
     ]
    }
   ],
   "source": [
    "df_undersampling.info()"
   ]
  },
  {
   "cell_type": "code",
   "execution_count": 43,
   "metadata": {},
   "outputs": [
    {
     "name": "stdout",
     "output_type": "stream",
     "text": [
      "<class 'pandas.core.frame.DataFrame'>\n",
      "RangeIndex: 2981 entries, 0 to 2980\n",
      "Data columns (total 6 columns):\n",
      " #   Column             Non-Null Count  Dtype  \n",
      "---  ------             --------------  -----  \n",
      " 0   air_humidity_100   2981 non-null   float64\n",
      " 1   atm_pressure_main  2981 non-null   float64\n",
      " 2   num_of_resets      2981 non-null   float64\n",
      " 3   piezo_charge       2981 non-null   float64\n",
      " 4   piezo_temperature  2981 non-null   float64\n",
      " 5   chuva              2981 non-null   int64  \n",
      "dtypes: float64(5), int64(1)\n",
      "memory usage: 139.9 KB\n"
     ]
    }
   ],
   "source": [
    "df_bsmote.info()"
   ]
  },
  {
   "attachments": {},
   "cell_type": "markdown",
   "metadata": {},
   "source": [
    "_____________________________________________________________________________________________________________________________"
   ]
  },
  {
   "cell_type": "markdown",
   "metadata": {},
   "source": [
    "# REGRESSÃO LINEAR"
   ]
  },
  {
   "cell_type": "markdown",
   "metadata": {},
   "source": [
    "* REGRESSÃO LINEAR OVERSAMPLED"
   ]
  },
  {
   "cell_type": "code",
   "execution_count": 44,
   "metadata": {},
   "outputs": [
    {
     "name": "stdout",
     "output_type": "stream",
     "text": [
      "Erro quadrático médio (MSE): 486.19894885731475\n",
      "Coeficiente de determinação (R²): 0.16459659260082793\n"
     ]
    }
   ],
   "source": [
    "# Selecionando as variáveis independentes e a variável alvo (chuva)\n",
    "data = df_oversampling\n",
    "\n",
    "X = data.drop(columns=['chuva'])\n",
    "y = data['chuva']\n",
    "\n",
    "# Dividindo os dados em conjunto de treinamento e conjunto de teste (80% treinamento, 20% teste)\n",
    "X_train, X_test, y_train, y_test = train_test_split(X, y, test_size=0.2, random_state=42)\n",
    "\n",
    "# Criando o modelo de regressão linear\n",
    "reg_model = LinearRegression()\n",
    "\n",
    "# Treinando o modelo com o conjunto de treinamento\n",
    "reg_model.fit(X_train, y_train)\n",
    "\n",
    "# Realizando as previsões no conjunto de teste\n",
    "y_pred = reg_model.predict(X_test)\n",
    "\n",
    "# Avaliando o desempenho do modelo\n",
    "mse = mean_squared_error(y_test, y_pred)\n",
    "r2 = r2_score(y_test, y_pred)\n",
    "\n",
    "print(\"Erro quadrático médio (MSE):\", mse)\n",
    "print(\"Coeficiente de determinação (R²):\", r2)"
   ]
  },
  {
   "cell_type": "markdown",
   "metadata": {},
   "source": [
    "*  REGRESSÃO LINEAR  UNDERSAMPLED"
   ]
  },
  {
   "cell_type": "code",
   "execution_count": 45,
   "metadata": {},
   "outputs": [
    {
     "name": "stdout",
     "output_type": "stream",
     "text": [
      "Erro quadrático médio (MSE): 2987.563820181223\n",
      "Coeficiente de determinação (R²): -24.199694828145272\n"
     ]
    }
   ],
   "source": [
    "# Selecionando as variáveis independentes e a variável alvo (chuva)\n",
    "data = df_undersampling\n",
    "X = data.drop(columns=['chuva'])\n",
    "y = data['chuva']\n",
    "\n",
    "# Dividindo os dados em conjunto de treinamento e conjunto de teste (80% treinamento, 20% teste)\n",
    "X_train, X_test, y_train, y_test = train_test_split(X, y, test_size=0.2, random_state=42)\n",
    "\n",
    "# Criando o modelo de regressão linear\n",
    "reg_model = LinearRegression()\n",
    "\n",
    "# Treinando o modelo com o conjunto de treinamento\n",
    "reg_model.fit(X_train, y_train)\n",
    "\n",
    "# Realizando as previsões no conjunto de teste\n",
    "y_pred = reg_model.predict(X_test)\n",
    "\n",
    "# Avaliando o desempenho do modelo\n",
    "mse = mean_squared_error(y_test, y_pred)\n",
    "r2 = r2_score(y_test, y_pred)\n",
    "\n",
    "print(\"Erro quadrático médio (MSE):\", mse)\n",
    "print(\"Coeficiente de determinação (R²):\", r2)"
   ]
  },
  {
   "cell_type": "markdown",
   "metadata": {},
   "source": [
    "*  REGRESSÃO LINEAR  BOARD SMOTE"
   ]
  },
  {
   "cell_type": "code",
   "execution_count": 46,
   "metadata": {},
   "outputs": [
    {
     "name": "stdout",
     "output_type": "stream",
     "text": [
      "Erro quadrático médio (MSE): 2.414566100104671\n",
      "Coeficiente de determinação (R²): 0.07927995304009128\n"
     ]
    }
   ],
   "source": [
    "# Selecionando as variáveis independentes e a variável alvo (chuva)\n",
    "data = df_bsmote\n",
    "X = data.drop(columns=['chuva'])\n",
    "y = data['chuva']\n",
    "\n",
    "# Dividindo os dados em conjunto de treinamento e conjunto de teste (80% treinamento, 20% teste)\n",
    "X_train, X_test, y_train, y_test = train_test_split(X, y, test_size=0.2, random_state=42)\n",
    "\n",
    "# Criando o modelo de regressão linear\n",
    "reg_model = LinearRegression()\n",
    "\n",
    "# Treinando o modelo com o conjunto de treinamento\n",
    "reg_model.fit(X_train, y_train)\n",
    "\n",
    "# Realizando as previsões no conjunto de teste\n",
    "y_pred = reg_model.predict(X_test)\n",
    "\n",
    "# Avaliando o desempenho do modelo\n",
    "mse = mean_squared_error(y_test, y_pred)\n",
    "r2 = r2_score(y_test, y_pred)\n",
    "\n",
    "print(\"Erro quadrático médio (MSE):\", mse)\n",
    "print(\"Coeficiente de determinação (R²):\", r2)"
   ]
  },
  {
   "cell_type": "markdown",
   "metadata": {},
   "source": [
    "*  REGRESSÃO LINEAR DADOS NORMALIZADOS E NAO BALANCEADOS"
   ]
  },
  {
   "cell_type": "code",
   "execution_count": 47,
   "metadata": {},
   "outputs": [
    {
     "name": "stdout",
     "output_type": "stream",
     "text": [
      "Erro quadrático médio (MSE): 0.0008055823084388694\n",
      "Coeficiente de determinação (R²): 0.02610635279519069\n"
     ]
    }
   ],
   "source": [
    "# Selecionando as variáveis independentes e a variável alvo (chuva)\n",
    "data = df_normalized\n",
    "X = data.drop(columns=['chuva'])\n",
    "y = data['chuva']\n",
    "\n",
    "# Dividindo os dados em conjunto de treinamento e conjunto de teste (80% treinamento, 20% teste)\n",
    "X_train, X_test, y_train, y_test = train_test_split(X, y, test_size=0.2, random_state=42)\n",
    "\n",
    "# Criando o modelo de regressão linear\n",
    "reg_model = LinearRegression()\n",
    "\n",
    "# Treinando o modelo com o conjunto de treinamento\n",
    "reg_model.fit(X_train, y_train)\n",
    "\n",
    "# Realizando as previsões no conjunto de teste\n",
    "y_pred = reg_model.predict(X_test)\n",
    "\n",
    "# Avaliando o desempenho do modelo\n",
    "mse = mean_squared_error(y_test, y_pred)\n",
    "r2 = r2_score(y_test, y_pred)\n",
    "\n",
    "print(\"Erro quadrático médio (MSE):\", mse)\n",
    "print(\"Coeficiente de determinação (R²):\", r2)"
   ]
  },
  {
   "cell_type": "markdown",
   "metadata": {},
   "source": [
    "Observado:\n",
    "* Regressão Linear para DataSets balanceamento Invalidados\n",
    "* Modelo de Regressão Linear sem Balanceamento acerta mais, devido a alta assertividade de não chuva. O que significa que o modelo explica apenas uma pequena proporção da variabilidade"
   ]
  },
  {
   "cell_type": "markdown",
   "metadata": {},
   "source": [
    "# RANDO FOREST"
   ]
  },
  {
   "cell_type": "markdown",
   "metadata": {},
   "source": [
    "* RANDOM OVERSAMPLING"
   ]
  },
  {
   "cell_type": "code",
   "execution_count": 92,
   "metadata": {},
   "outputs": [
    {
     "name": "stdout",
     "output_type": "stream",
     "text": [
      "Erro quadrático médio (MSE): 1.2300388259007307\n",
      "Coeficiente de determinação (R²): 0.997886505865951\n"
     ]
    }
   ],
   "source": [
    "# Selecionando as colunas de features (variáveis independentes) e a variável alvo (chuva)\n",
    "#data = df_oversampling[[ 'atm_pressure_main','num_of_resets','piezo_charge','piezo_temperature','chuva']]\n",
    "\n",
    "#data = df_oversampling[['air_humidity_100', 'atm_pressure_main','piezo_charge','piezo_temperature','chuva']]\n",
    "data = df_oversampling[['air_humidity_100','num_of_resets', 'atm_pressure_main','piezo_charge','chuva']]\n",
    "\n",
    "\n",
    "X = data.drop(columns=['chuva'])\n",
    "y = data['chuva']\n",
    "\n",
    "# Dividindo os dados em conjunto de treinamento e conjunto de teste (80% treinamento, 20% teste)\n",
    "X_train, X_test, y_train, y_test = train_test_split(X, y, test_size=0.2, random_state=42)\n",
    "\n",
    "# Criando o modelo Random Forest\n",
    "rf_model = RandomForestRegressor(n_estimators=100, random_state=42)\n",
    "\n",
    "# Treinando o modelo com o conjunto de treinamento\n",
    "rf_model.fit(X_train, y_train)\n",
    "\n",
    "# Realizando as previsões no conjunto de teste\n",
    "y_pred = rf_model.predict(X_test)\n",
    "\n",
    "# Avaliando o desempenho do modelo\n",
    "mse = mean_squared_error(y_test, y_pred)\n",
    "r2 = r2_score(y_test, y_pred)\n",
    "\n",
    "print(\"Erro quadrático médio (MSE):\", mse)\n",
    "print(\"Coeficiente de determinação (R²):\", r2)"
   ]
  },
  {
   "cell_type": "code",
   "execution_count": 93,
   "metadata": {},
   "outputs": [
    {
     "name": "stdout",
     "output_type": "stream",
     "text": [
      "Média do MSE: 216.60218711766188\n",
      "Desvio padrão do MSE: 182.42571527323489\n"
     ]
    }
   ],
   "source": [
    "import pandas as pd\n",
    "from sklearn.model_selection import cross_val_score\n",
    "from sklearn.ensemble import RandomForestRegressor\n",
    "\n",
    "\n",
    "# Selecionando as colunas de features (variáveis independentes) e a variável alvo (chuva)\n",
    "X = data.drop(columns=['chuva'])\n",
    "y = data['chuva']\n",
    "\n",
    "# Criando o modelo Random Forest\n",
    "rf_model = RandomForestRegressor(random_state=42)\n",
    "\n",
    "# Realizando a validação cruzada com 5 folds\n",
    "cv_scores = cross_val_score(rf_model, X, y, cv=5, scoring='neg_mean_squared_error')\n",
    "\n",
    "# Convertendo os scores de MSE negativos para positivos\n",
    "cv_scores = -cv_scores\n",
    "\n",
    "# Calculando a média e desvio padrão dos scores\n",
    "mean_mse = cv_scores.mean()\n",
    "std_mse = cv_scores.std()\n",
    "\n",
    "print(\"Média do MSE:\", mean_mse)\n",
    "print(\"Desvio padrão do MSE:\", std_mse)\n"
   ]
  },
  {
   "cell_type": "markdown",
   "metadata": {},
   "source": [
    "* RANDOM FOREST UNDERSAMPLING"
   ]
  },
  {
   "cell_type": "code",
   "execution_count": 50,
   "metadata": {},
   "outputs": [
    {
     "name": "stdout",
     "output_type": "stream",
     "text": [
      "Erro quadrático médio (MSE): 690.24735\n",
      "Coeficiente de determinação (R²): -4.822142596063729\n"
     ]
    }
   ],
   "source": [
    "# Selecionando as colunas de features (variáveis independentes) e a variável alvo (chuva)\n",
    "data = df_undersampling\n",
    "\n",
    "X = data.drop(columns=['chuva'])\n",
    "y = data['chuva']\n",
    "\n",
    "# Dividindo os dados em conjunto de treinamento e conjunto de teste (80% treinamento, 20% teste)\n",
    "X_train, X_test, y_train, y_test = train_test_split(X, y, test_size=0.2, random_state=42)\n",
    "\n",
    "# Criando o modelo Random Forest\n",
    "rf_model = RandomForestRegressor(n_estimators=100, random_state=42)\n",
    "\n",
    "# Treinando o modelo com o conjunto de treinamento\n",
    "rf_model.fit(X_train, y_train)\n",
    "\n",
    "# Realizando as previsões no conjunto de teste\n",
    "y_pred = rf_model.predict(X_test)\n",
    "\n",
    "# Avaliando o desempenho do modelo\n",
    "mse = mean_squared_error(y_test, y_pred)\n",
    "r2 = r2_score(y_test, y_pred)\n",
    "\n",
    "print(\"Erro quadrático médio (MSE):\", mse)\n",
    "print(\"Coeficiente de determinação (R²):\", r2)"
   ]
  },
  {
   "cell_type": "markdown",
   "metadata": {},
   "source": [
    "* RANDOM FOREST BORD SMOTE"
   ]
  },
  {
   "cell_type": "code",
   "execution_count": 51,
   "metadata": {},
   "outputs": [
    {
     "name": "stdout",
     "output_type": "stream",
     "text": [
      "Erro quadrático médio (MSE): 2.1405901172529314\n",
      "Coeficiente de determinação (R²): 0.183752214033984\n"
     ]
    }
   ],
   "source": [
    "# Selecionando as colunas de features (variáveis independentes) e a variável alvo (chuva)\n",
    "data = df_bsmote\n",
    "\n",
    "X = data.drop(columns=['chuva'])\n",
    "y = data['chuva']\n",
    "\n",
    "# Dividindo os dados em conjunto de treinamento e conjunto de teste (80% treinamento, 20% teste)\n",
    "X_train, X_test, y_train, y_test = train_test_split(X, y, test_size=0.2, random_state=42)\n",
    "\n",
    "# Criando o modelo Random Forest\n",
    "rf_model = RandomForestRegressor(n_estimators=100, random_state=42)\n",
    "\n",
    "# Treinando o modelo com o conjunto de treinamento\n",
    "rf_model.fit(X_train, y_train)\n",
    "\n",
    "# Realizando as previsões no conjunto de teste\n",
    "y_pred = rf_model.predict(X_test)\n",
    "\n",
    "# Avaliando o desempenho do modelo\n",
    "mse = mean_squared_error(y_test, y_pred)\n",
    "r2 = r2_score(y_test, y_pred)\n",
    "\n",
    "print(\"Erro quadrático médio (MSE):\", mse)\n",
    "print(\"Coeficiente de determinação (R²):\", r2)"
   ]
  },
  {
   "cell_type": "markdown",
   "metadata": {},
   "source": [
    "* RANDOM FOREST NORMALIZED SEM BALANCEAMENTO"
   ]
  },
  {
   "cell_type": "code",
   "execution_count": 52,
   "metadata": {},
   "outputs": [
    {
     "name": "stdout",
     "output_type": "stream",
     "text": [
      "Erro quadrático médio (MSE): 0.0023699798799301152\n",
      "Coeficiente de determinação (R²): -1.8651427978104658\n"
     ]
    }
   ],
   "source": [
    "# Selecionando as colunas de features (variáveis independentes) e a variável alvo (chuva)\n",
    "data = df_normalized\n",
    "\n",
    "X = data.drop(columns=['chuva'])\n",
    "y = data['chuva']\n",
    "\n",
    "# Dividindo os dados em conjunto de treinamento e conjunto de teste (80% treinamento, 20% teste)\n",
    "X_train, X_test, y_train, y_test = train_test_split(X, y, test_size=0.2, random_state=42)\n",
    "\n",
    "# Criando o modelo Random Forest\n",
    "rf_model = RandomForestRegressor(n_estimators=100, random_state=42)\n",
    "\n",
    "# Treinando o modelo com o conjunto de treinamento\n",
    "rf_model.fit(X_train, y_train)\n",
    "\n",
    "# Realizando as previsões no conjunto de teste\n",
    "y_pred = rf_model.predict(X_test)\n",
    "\n",
    "# Avaliando o desempenho do modelo\n",
    "mse = mean_squared_error(y_test, y_pred)\n",
    "r2 = r2_score(y_test, y_pred)\n",
    "\n",
    "print(\"Erro quadrático médio (MSE):\", mse)\n",
    "print(\"Coeficiente de determinação (R²):\", r2)"
   ]
  },
  {
   "cell_type": "markdown",
   "metadata": {},
   "source": [
    "Observado:\n",
    "* Bom desempenho para Random Forest com OverSampling"
   ]
  },
  {
   "cell_type": "markdown",
   "metadata": {},
   "source": [
    "# XGBOST"
   ]
  },
  {
   "cell_type": "code",
   "execution_count": 53,
   "metadata": {},
   "outputs": [],
   "source": [
    "import xgboost as xgb"
   ]
  },
  {
   "cell_type": "markdown",
   "metadata": {},
   "source": [
    "* XGBOOST OVERSAMPLING"
   ]
  },
  {
   "cell_type": "code",
   "execution_count": 54,
   "metadata": {},
   "outputs": [
    {
     "name": "stdout",
     "output_type": "stream",
     "text": [
      "Erro quadrático médio (MSE): 0.2620537724778621\n",
      "Coeficiente de determinação (R²): 0.9995497303830781\n"
     ]
    }
   ],
   "source": [
    "# Selecionando as colunas de features (variáveis independentes) e a variável alvo (chuva)\n",
    "data = df_oversampling\n",
    "\n",
    "X = data.drop(columns=['chuva'])\n",
    "y = data['chuva']\n",
    "\n",
    "# Dividindo os dados em conjunto de treinamento e conjunto de teste (80% treinamento, 20% teste)\n",
    "X_train, X_test, y_train, y_test = train_test_split(X, y, test_size=0.2, random_state=42)\n",
    "\n",
    "# Criando o modelo XGBoost\n",
    "xgb_model = xgb.XGBRegressor(random_state=42)\n",
    "\n",
    "# Treinando o modelo com o conjunto de treinamento\n",
    "xgb_model.fit(X_train, y_train)\n",
    "\n",
    "# Realizando as previsões no conjunto de teste\n",
    "y_pred = xgb_model.predict(X_test)\n",
    "\n",
    "# Avaliando o desempenho do modelo\n",
    "mse = mean_squared_error(y_test, y_pred)\n",
    "r2 = r2_score(y_test, y_pred)\n",
    "\n",
    "print(\"Erro quadrático médio (MSE):\", mse)\n",
    "print(\"Coeficiente de determinação (R²):\", r2)"
   ]
  },
  {
   "cell_type": "markdown",
   "metadata": {},
   "source": [
    "* XGBOOST UNDERSAMPLING"
   ]
  },
  {
   "cell_type": "code",
   "execution_count": 55,
   "metadata": {},
   "outputs": [
    {
     "name": "stdout",
     "output_type": "stream",
     "text": [
      "Erro quadrático médio (MSE): 257.8603844943\n",
      "Coeficiente de determinação (R²): -1.175017301264011\n"
     ]
    }
   ],
   "source": [
    "# Selecionando as colunas de features (variáveis independentes) e a variável alvo (chuva)\n",
    "data = df_undersampling\n",
    "\n",
    "X = data.drop(columns=['chuva'])\n",
    "y = data['chuva']\n",
    "\n",
    "# Dividindo os dados em conjunto de treinamento e conjunto de teste (80% treinamento, 20% teste)\n",
    "X_train, X_test, y_train, y_test = train_test_split(X, y, test_size=0.2, random_state=42)\n",
    "\n",
    "# Criando o modelo XGBoost\n",
    "xgb_model = xgb.XGBRegressor(random_state=42)\n",
    "\n",
    "# Treinando o modelo com o conjunto de treinamento\n",
    "xgb_model.fit(X_train, y_train)\n",
    "\n",
    "# Realizando as previsões no conjunto de teste\n",
    "y_pred = xgb_model.predict(X_test)\n",
    "\n",
    "# Avaliando o desempenho do modelo\n",
    "mse = mean_squared_error(y_test, y_pred)\n",
    "r2 = r2_score(y_test, y_pred)\n",
    "\n",
    "print(\"Erro quadrático médio (MSE):\", mse)\n",
    "print(\"Coeficiente de determinação (R²):\", r2)"
   ]
  },
  {
   "cell_type": "markdown",
   "metadata": {},
   "source": [
    "* XGBOOST BORD SMOTE"
   ]
  },
  {
   "cell_type": "code",
   "execution_count": 56,
   "metadata": {},
   "outputs": [
    {
     "name": "stdout",
     "output_type": "stream",
     "text": [
      "Erro quadrático médio (MSE): 1.7288307899760458\n",
      "Coeficiente de determinação (R²): 0.3407638887734413\n"
     ]
    }
   ],
   "source": [
    "# Selecionando as colunas de features (variáveis independentes) e a variável alvo (chuva)\n",
    "data = df_bsmote\n",
    "\n",
    "X = data.drop(columns=['chuva'])\n",
    "y = data['chuva']\n",
    "\n",
    "# Dividindo os dados em conjunto de treinamento e conjunto de teste (80% treinamento, 20% teste)\n",
    "X_train, X_test, y_train, y_test = train_test_split(X, y, test_size=0.2, random_state=42)\n",
    "\n",
    "# Criando o modelo XGBoost\n",
    "xgb_model = xgb.XGBRegressor(random_state=42)\n",
    "\n",
    "# Treinando o modelo com o conjunto de treinamento\n",
    "xgb_model.fit(X_train, y_train)\n",
    "\n",
    "# Realizando as previsões no conjunto de teste\n",
    "y_pred = xgb_model.predict(X_test)\n",
    "\n",
    "# Avaliando o desempenho do modelo\n",
    "mse = mean_squared_error(y_test, y_pred)\n",
    "r2 = r2_score(y_test, y_pred)\n",
    "\n",
    "print(\"Erro quadrático médio (MSE):\", mse)\n",
    "print(\"Coeficiente de determinação (R²):\", r2)"
   ]
  },
  {
   "cell_type": "markdown",
   "metadata": {},
   "source": [
    "* XGBOOST DADOS NORMALIZADOS E NÃO BALANCEADOS"
   ]
  },
  {
   "cell_type": "code",
   "execution_count": 57,
   "metadata": {},
   "outputs": [
    {
     "name": "stdout",
     "output_type": "stream",
     "text": [
      "Erro quadrático médio (MSE): 0.0036813334233945414\n",
      "Coeficiente de determinação (R²): -3.450479108999372\n"
     ]
    }
   ],
   "source": [
    "# Selecionando as colunas de features (variáveis independentes) e a variável alvo (chuva)\n",
    "data = df_normalized\n",
    "\n",
    "X = data.drop(columns=['chuva'])\n",
    "y = data['chuva']\n",
    "\n",
    "# Dividindo os dados em conjunto de treinamento e conjunto de teste (80% treinamento, 20% teste)\n",
    "X_train, X_test, y_train, y_test = train_test_split(X, y, test_size=0.2, random_state=42)\n",
    "\n",
    "# Criando o modelo XGBoost\n",
    "xgb_model = xgb.XGBRegressor(random_state=42)\n",
    "\n",
    "# Treinando o modelo com o conjunto de treinamento\n",
    "xgb_model.fit(X_train, y_train)\n",
    "\n",
    "# Realizando as previsões no conjunto de teste\n",
    "y_pred = xgb_model.predict(X_test)\n",
    "\n",
    "# Avaliando o desempenho do modelo\n",
    "mse = mean_squared_error(y_test, y_pred)\n",
    "r2 = r2_score(y_test, y_pred)\n",
    "\n",
    "print(\"Erro quadrático médio (MSE):\", mse)\n",
    "print(\"Coeficiente de determinação (R²):\", r2)"
   ]
  },
  {
   "cell_type": "markdown",
   "metadata": {},
   "source": [
    "Observado:\n",
    "* Bom desempenho para XGBOOST com OverSampling"
   ]
  },
  {
   "cell_type": "markdown",
   "metadata": {},
   "source": [
    "# CROSVALIDATION"
   ]
  },
  {
   "cell_type": "code",
   "execution_count": 58,
   "metadata": {},
   "outputs": [],
   "source": [
    "from sklearn.model_selection import cross_val_score"
   ]
  },
  {
   "cell_type": "code",
   "execution_count": 128,
   "metadata": {},
   "outputs": [
    {
     "name": "stdout",
     "output_type": "stream",
     "text": [
      "Erro quadrático médio (MSE): 0.2300775893696224\n",
      "Coeficiente de determinação (R²): 0.9996046729377401\n",
      "Média do MSE: 76.53309249502111\n",
      "Desvio padrão do MSE: 150.53366129122978\n"
     ]
    }
   ],
   "source": [
    "# Selecionando as colunas de features (variáveis independentes) e a variável alvo (chuva)\n",
    "\n",
    "data = df_oversampling[[ 'air_humidity_100','atm_pressure_main','piezo_charge','piezo_temperature','chuva']]\n",
    "\n",
    "#data = df_oversampling[['num_of_resets','piezo_charge','piezo_temperature','chuva']]\n",
    "\n",
    "X = data.drop(columns=['chuva'])\n",
    "y = data['chuva']\n",
    "\n",
    "# Dividindo os dados em conjunto de treinamento e conjunto de teste (80% treinamento, 20% teste)\n",
    "X_train, X_test, y_train, y_test = train_test_split(X, y, test_size=0.2, random_state=42)\n",
    "\n",
    "# Criando o modelo XGBoost\n",
    "xgb_model = xgb.XGBRegressor(random_state=42)\n",
    "\n",
    "# Treinando o modelo com o conjunto de treinamento\n",
    "xgb_model.fit(X_train, y_train)\n",
    "\n",
    "# Realizando as previsões no conjunto de teste\n",
    "y_pred = xgb_model.predict(X_test)\n",
    "\n",
    "\n",
    "# Avaliando o desempenho do modelo\n",
    "mse = mean_squared_error(y_test, y_pred)\n",
    "r2 = r2_score(y_test, y_pred)\n",
    "\n",
    "print(\"Erro quadrático médio (MSE):\", mse)\n",
    "print(\"Coeficiente de determinação (R²):\", r2)\n",
    "\n",
    "# Realizando a validação cruzada com 5 folds\n",
    "cv_scores = cross_val_score(xgb_model, X, y, cv=5, scoring='neg_mean_squared_error')\n",
    "\n",
    "# Convertendo os scores de MSE negativos para positivos\n",
    "cv_scores = -cv_scores\n",
    "\n",
    "# Calculando a média e desvio padrão dos scores\n",
    "mean_mse = cv_scores.mean()\n",
    "std_mse = cv_scores.std()\n",
    "\n",
    "print(\"Média do MSE:\", mean_mse)\n",
    "print(\"Desvio padrão do MSE:\", std_mse)"
   ]
  },
  {
   "cell_type": "code",
   "execution_count": 157,
   "metadata": {},
   "outputs": [],
   "source": [
    "# Plotagem dos dados de chuva reais e valores preditos\n",
    "\n",
    "data = df_normalized[[ 'air_humidity_100','atm_pressure_main','piezo_charge','piezo_temperature','chuva']]\n",
    "\n",
    "#data = df_oversampling[['num_of_resets','piezo_charge','piezo_temperature','chuva']]\n",
    "\n",
    "X = data.drop(columns=[\"chuva\"])\n",
    "y = data[\"chuva\"]\n",
    "\n",
    "# Discretizar a variável \"chuva\" em 27 classes\n",
    "num_classes_chuva = 100\n",
    "y_discretized = pd.cut(y, bins=num_classes_chuva, labels=False)\n",
    "\n",
    "\n",
    "# Criar um novo DataFrame com os dados resampleados e a variável \"chuva\" convertida de volta para contínua\n",
    "df_resample = pd.DataFrame(X, columns=X.columns)\n",
    "df_resample[\"chuva\"] = y_discretized\n",
    "\n",
    "\n",
    "# Dividindo os dados em conjunto de treinamento e conjunto de teste (80% treinamento, 20% teste)\n",
    "X_train, X_test, y_train, y_test = train_test_split(X, y, test_size=100, random_state=42)\n",
    "\n",
    "\n",
    "# Realizando as previsões no conjunto de teste\n",
    "y_norm = xgb_model.predict(X)\n"
   ]
  },
  {
   "cell_type": "code",
   "execution_count": 171,
   "metadata": {},
   "outputs": [
    {
     "data": {
      "text/plain": [
       "Text(0.5, 1.0, 'Carga do Acumulador & Chuva')"
      ]
     },
     "execution_count": 171,
     "metadata": {},
     "output_type": "execute_result"
    },
    {
     "data": {
      "image/png": "[encoded data removed]",
      "text/plain": [
       "<Figure size 1500x500 with 1 Axes>"
      ]
     },
     "metadata": {},
     "output_type": "display_data"
    }
   ],
   "source": [
    "import seaborn as sns\n",
    "\n",
    "\n",
    "plt.figure(figsize=(15, 5))\n",
    "plt.plot(y_norm, label='Chuva Discretizada', linestyle='--', marker='')\n",
    "plt.plot(df_resample.chuva, label='Chuva Preditos', linestyle='--', marker='')\n",
    "plt.xlabel('Data')\n",
    "plt.ylabel('Chuva')\n",
    "plt.title('Carga do Acumulador & Chuva')"
   ]
  },
  {
   "cell_type": "markdown",
   "metadata": {},
   "source": []
  },
  {
   "cell_type": "markdown",
   "metadata": {},
   "source": [
    "# Conclusão:\n",
    "\n",
    "Após otimização o modelo XGBoost com as colunas [ 'air_humidity_100','atm_pressure_main','piezo_charge','piezo_temperature','chuva'] e abase de dados Oversampled obteve os melhores desempenhos\n",
    "\n",
    "* Erro quadrático médio (MSE): 0.2300775893696224\n",
    "* Coeficiente de determinação (R²): 0.9996046729377401\n",
    "* Média do MSE: 76.53309249502111\n",
    "* Desvio padrão do MSE: 150.53366129122978\n",
    "\n"
   ]
  },
  {
   "cell_type": "markdown",
   "metadata": {},
   "source": []
  }
 ],
 "metadata": {
  "kernelspec": {
   "display_name": ".venv",
   "language": "python",
   "name": "python3"
  },
  "language_info": {
   "codemirror_mode": {
    "name": "ipython",
    "version": 3
   },
   "file_extension": ".py",
   "mimetype": "text/x-python",
   "name": "python",
   "nbconvert_exporter": "python",
   "pygments_lexer": "ipython3",
   "version": "3.11.4"
  },
  "orig_nbformat": 4
 },
 "nbformat": 4,
 "nbformat_minor": 2
}
